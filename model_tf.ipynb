{
 "cells": [
  {
   "cell_type": "code",
   "execution_count": null,
   "metadata": {},
   "outputs": [],
   "source": [
    "# define UNet Model in TF\n",
    "import tensorflow as tf\n",
    "\n",
    "def weight_variable(shape, name):\n",
    "    initial = tf.truncated_normal(shape, stddev=0.1)\n",
    "    return tf.Variable(initial, name=name)\n",
    "\n",
    "def bias_variable(shape, name):\n",
    "    initial = tf.constant(0.1, shape=shape)\n",
    "    return tf.Variable(initial, name=name)\n",
    "\n",
    "def conv2d(x, W):\n",
    "    return tf.nn.conv2d(x, W, strides = [1, 2, 2, 1], padding = 'SAME')\n",
    "\n",
    "def max_pool_2x2(x):\n",
    "    return tf.nn.max_pool(x, ksize=[1, 2, 2, 1])"
   ]
  },
  {
   "cell_type": "code",
   "execution_count": null,
   "metadata": {},
   "outputs": [],
   "source": [
    "def model_tf(x):\n",
    "    #===== first layer\n",
    "    W_conv1 = weight_variable([5, 5, 1, 32], \"W_conv1\")\n",
    "    b_conv1 = bias_variable([32], \"b_conv1\")\n",
    "    \n",
    "    x_image = tf.reshape(x, [-1, 256, 256, 1])\n",
    "    \n",
    "    h_conv1= tf.nn.relu(conv2d(x_image, W_conv1)+b_conv1)\n",
    "    \n",
    "    W_conv2 = weight_variable([5, 5, 32, 32], \"W_conv2\")\n",
    "    b_conv2 = bias_variable([32], \"b_conv2\")\n",
    "    \n",
    "    h_conv2 = tf.nn.relu(conv2d(h_conv1, W_conv2) + b_conv2)\n",
    "    \n",
    "    h_pool1 = max_pool_2x2(h_conv2)\n",
    "    \n",
    "    #===== second layer    \n",
    "    W_conv3 = weight_variable([5,5,32, 64], \"W_conv3\")\n",
    "    b_conv3 = bias_variable([64], \"b_conv3\")\n",
    "    \n",
    "    h_conv3 = tf.nn.relu(conv2d(h_pool1, W_conv3) + b_conv3)\n",
    "    \n",
    "    W_conv4 = weight_variable([5,5,64,64], \"W_conv4\")\n",
    "    b_conv4 = bias_variable([64], \"b_conv4\")\n",
    "\n",
    "    h_conv4 = tf.nn.relu(conv2d(h_conv3, W_conv4) + b_conv4)\n",
    "\n",
    "    h_pool2 = max_pool_2x2(h_conv4)\n",
    "    \n",
    "    #===== third layer    \n",
    "    W_conv3 = weight_variable([5,5,32, 64], \"W_conv3\")\n",
    "    b_conv3 = bias_variable([64], \"b_conv3\")\n",
    "    \n",
    "    h_conv3 = tf.nn.relu(conv2d(h_pool1, W_conv3) + b_conv3)\n",
    "    \n",
    "    W_conv4 = weight_variable([5,5,64,64], \"W_conv4\")\n",
    "    b_conv4 = bias_variable([64], \"b_conv4\")\n",
    "\n",
    "    h_conv4 = tf.nn.relu(conv2d(h_conv3, W_conv4) + b_conv4)\n",
    "\n",
    "    h_pool2 = max_pool_2x2(h_conv4)   "
   ]
  },
  {
   "cell_type": "code",
   "execution_count": null,
   "metadata": {},
   "outputs": [],
   "source": []
  }
 ],
 "metadata": {
  "kernelspec": {
   "display_name": "Python 3",
   "language": "python",
   "name": "python3"
  },
  "language_info": {
   "codemirror_mode": {
    "name": "ipython",
    "version": 3
   },
   "file_extension": ".py",
   "mimetype": "text/x-python",
   "name": "python",
   "nbconvert_exporter": "python",
   "pygments_lexer": "ipython3",
   "version": "3.6.9"
  },
  "varInspector": {
   "cols": {
    "lenName": 16,
    "lenType": 16,
    "lenVar": 40
   },
   "kernels_config": {
    "python": {
     "delete_cmd_postfix": "",
     "delete_cmd_prefix": "del ",
     "library": "var_list.py",
     "varRefreshCmd": "print(var_dic_list())"
    },
    "r": {
     "delete_cmd_postfix": ") ",
     "delete_cmd_prefix": "rm(",
     "library": "var_list.r",
     "varRefreshCmd": "cat(var_dic_list()) "
    }
   },
   "types_to_exclude": [
    "module",
    "function",
    "builtin_function_or_method",
    "instance",
    "_Feature"
   ],
   "window_display": true
  }
 },
 "nbformat": 4,
 "nbformat_minor": 2
}
